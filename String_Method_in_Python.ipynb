{
  "nbformat": 4,
  "nbformat_minor": 0,
  "metadata": {
    "colab": {
      "provenance": [],
      "authorship_tag": "ABX9TyPg1MlU0ijctHvggRA0qfuy",
      "include_colab_link": true
    },
    "kernelspec": {
      "name": "python3",
      "display_name": "Python 3"
    },
    "language_info": {
      "name": "python"
    }
  },
  "cells": [
    {
      "cell_type": "markdown",
      "metadata": {
        "id": "view-in-github",
        "colab_type": "text"
      },
      "source": [
        "<a href=\"https://colab.research.google.com/github/Muskaurya005/Python_Assignments/blob/main/String_Method_in_Python.ipynb\" target=\"_parent\"><img src=\"https://colab.research.google.com/assets/colab-badge.svg\" alt=\"Open In Colab\"/></a>"
      ]
    },
    {
      "cell_type": "code",
      "execution_count": null,
      "metadata": {
        "id": "7FS9H8elafkX",
        "colab": {
          "base_uri": "https://localhost:8080/"
        },
        "outputId": "7699d3ae-2a33-4146-c242-d65bffb33433"
      },
      "outputs": [
        {
          "output_type": "stream",
          "name": "stdout",
          "text": [
            "hello\n"
          ]
        }
      ],
      "source": [
        "a=print(\"HELLO\".lower());"
      ]
    },
    {
      "cell_type": "code",
      "source": [
        "a=print(\"hello\".upper());"
      ],
      "metadata": {
        "id": "hqrpSQBCaqzL",
        "colab": {
          "base_uri": "https://localhost:8080/"
        },
        "outputId": "2cd72998-23c4-4e30-fbed-65d8b666d4d3"
      },
      "execution_count": null,
      "outputs": [
        {
          "output_type": "stream",
          "name": "stdout",
          "text": [
            "HELLO\n"
          ]
        }
      ]
    },
    {
      "cell_type": "code",
      "source": [
        "a=print(\"hello world\".capitalize());"
      ],
      "metadata": {
        "id": "WU2i0y8HbRq9",
        "colab": {
          "base_uri": "https://localhost:8080/"
        },
        "outputId": "ec4f9f65-b6f4-44b0-856e-f96c1bab901a"
      },
      "execution_count": null,
      "outputs": [
        {
          "output_type": "stream",
          "name": "stdout",
          "text": [
            "Hello world\n"
          ]
        }
      ]
    },
    {
      "cell_type": "code",
      "source": [
        "a=print(\"hello world\".title());"
      ],
      "metadata": {
        "id": "KUemAnoPbcvr",
        "colab": {
          "base_uri": "https://localhost:8080/"
        },
        "outputId": "db478037-5c23-4e11-a1db-a7c6b1214737"
      },
      "execution_count": null,
      "outputs": [
        {
          "output_type": "stream",
          "name": "stdout",
          "text": [
            "Hello World\n"
          ]
        }
      ]
    },
    {
      "cell_type": "code",
      "source": [
        "a=print(\"hello\".strip());"
      ],
      "metadata": {
        "id": "kRfTZbkjbfzP",
        "colab": {
          "base_uri": "https://localhost:8080/"
        },
        "outputId": "dc02c5c0-4c07-43bb-ac56-02ac72106c88"
      },
      "execution_count": null,
      "outputs": [
        {
          "output_type": "stream",
          "name": "stdout",
          "text": [
            "hello\n"
          ]
        }
      ]
    },
    {
      "cell_type": "code",
      "source": [
        "a=print(\"Hello\".startswith(\"He\"));"
      ],
      "metadata": {
        "id": "t25NJFRVbgEn",
        "colab": {
          "base_uri": "https://localhost:8080/"
        },
        "outputId": "d9699800-7c60-4b99-da2b-cc555475b610"
      },
      "execution_count": null,
      "outputs": [
        {
          "output_type": "stream",
          "name": "stdout",
          "text": [
            "True\n"
          ]
        }
      ]
    },
    {
      "cell_type": "code",
      "source": [
        "a=print(\"hello world\".endswith(\"ld\"));"
      ],
      "metadata": {
        "id": "GRXi27tibgUU",
        "colab": {
          "base_uri": "https://localhost:8080/"
        },
        "outputId": "1eab19c0-41b0-42d7-b0f5-73587bb0db8d"
      },
      "execution_count": null,
      "outputs": [
        {
          "output_type": "stream",
          "name": "stdout",
          "text": [
            "True\n"
          ]
        }
      ]
    },
    {
      "cell_type": "code",
      "source": [
        "a=print(\"one, three\".replace(\",\",\"|\"));"
      ],
      "metadata": {
        "id": "LU0GHnFTbg87",
        "colab": {
          "base_uri": "https://localhost:8080/"
        },
        "outputId": "29cce8e4-abd8-49a6-f087-91b12076bf97"
      },
      "execution_count": null,
      "outputs": [
        {
          "output_type": "stream",
          "name": "stdout",
          "text": [
            "one| three\n"
          ]
        }
      ]
    },
    {
      "cell_type": "code",
      "source": [
        "a=print(\"one, three\".split(\", \")) ;"
      ],
      "metadata": {
        "id": "rjMicHTqbhfJ",
        "colab": {
          "base_uri": "https://localhost:8080/"
        },
        "outputId": "8f515d88-e7ad-430a-c213-61af256c0cc5"
      },
      "execution_count": null,
      "outputs": [
        {
          "output_type": "stream",
          "name": "stdout",
          "text": [
            "['one', 'three']\n"
          ]
        }
      ]
    },
    {
      "cell_type": "code",
      "source": [
        "a=print(\"_\".join([\"a\", \"b\", \" c\",])) ;"
      ],
      "metadata": {
        "id": "s6e3Vm_Rbh_Z",
        "colab": {
          "base_uri": "https://localhost:8080/"
        },
        "outputId": "4224af49-50f6-4653-9c0a-aac5f74e6cbf"
      },
      "execution_count": 13,
      "outputs": [
        {
          "output_type": "stream",
          "name": "stdout",
          "text": [
            "a_b_ c\n"
          ]
        }
      ]
    },
    {
      "cell_type": "code",
      "source": [
        "a=print(\"hello\".find(\"e\"));"
      ],
      "metadata": {
        "id": "H2wZHVOqbiff",
        "colab": {
          "base_uri": "https://localhost:8080/"
        },
        "outputId": "1a796d88-e0c1-456c-9397-79404362f992"
      },
      "execution_count": 14,
      "outputs": [
        {
          "output_type": "stream",
          "name": "stdout",
          "text": [
            "1\n"
          ]
        }
      ]
    },
    {
      "cell_type": "code",
      "source": [
        "a=print(\"hello\".index(\"o\"));"
      ],
      "metadata": {
        "id": "hgNQ98F3bi9Q",
        "colab": {
          "base_uri": "https://localhost:8080/"
        },
        "outputId": "99943c14-1194-44b8-a14e-f37cc9bfab2b"
      },
      "execution_count": 16,
      "outputs": [
        {
          "output_type": "stream",
          "name": "stdout",
          "text": [
            "4\n"
          ]
        }
      ]
    },
    {
      "cell_type": "code",
      "source": [
        "a=print(\"hello world\".count(\"l\"));"
      ],
      "metadata": {
        "id": "fHzFGVjNbjd7",
        "colab": {
          "base_uri": "https://localhost:8080/"
        },
        "outputId": "5ab36e26-12b0-4313-f9b4-3e581aface3c"
      },
      "execution_count": 17,
      "outputs": [
        {
          "output_type": "stream",
          "name": "stdout",
          "text": [
            "3\n"
          ]
        }
      ]
    },
    {
      "cell_type": "code",
      "source": [
        "a=print(\"12345\".isnumeric());"
      ],
      "metadata": {
        "id": "JRrQKuP7bkGt",
        "colab": {
          "base_uri": "https://localhost:8080/"
        },
        "outputId": "56f62179-b2de-4b9b-c5f0-02d9a9414d85"
      },
      "execution_count": 18,
      "outputs": [
        {
          "output_type": "stream",
          "name": "stdout",
          "text": [
            "True\n"
          ]
        }
      ]
    }
  ]
}