{
  "nbformat": 4,
  "nbformat_minor": 0,
  "metadata": {
    "colab": {
      "provenance": [],
      "authorship_tag": "ABX9TyMPktCUcUf6/hsMKdXnLPn1",
      "include_colab_link": true
    },
    "kernelspec": {
      "name": "python3",
      "display_name": "Python 3"
    },
    "language_info": {
      "name": "python"
    }
  },
  "cells": [
    {
      "cell_type": "markdown",
      "metadata": {
        "id": "view-in-github",
        "colab_type": "text"
      },
      "source": [
        "<a href=\"https://colab.research.google.com/github/Muskaurya005/Python_Assignments/blob/main/Python_Functions_with_Example.ipynb\" target=\"_parent\"><img src=\"https://colab.research.google.com/assets/colab-badge.svg\" alt=\"Open In Colab\"/></a>"
      ]
    },
    {
      "cell_type": "code",
      "source": [
        "def addTwo(a,b):\n",
        "  c=a+b;\n",
        "  return c;\n",
        "\n",
        "print(addTwo(5,7));"
      ],
      "metadata": {
        "id": "_B5l9YmZo4Ny",
        "colab": {
          "base_uri": "https://localhost:8080/"
        },
        "outputId": "7b045e98-74cb-44b9-b550-4377c5019118"
      },
      "execution_count": null,
      "outputs": [
        {
          "output_type": "stream",
          "name": "stdout",
          "text": [
            "12\n"
          ]
        }
      ]
    },
    {
      "cell_type": "code",
      "source": [
        "addTwo=lambda a,b: a+b\n",
        "print(addTwo(6,4))"
      ],
      "metadata": {
        "colab": {
          "base_uri": "https://localhost:8080/"
        },
        "id": "oSGRTo8Wpdn6",
        "outputId": "3d8a9210-fa40-4a01-ee79-27951c22e4cb"
      },
      "execution_count": null,
      "outputs": [
        {
          "output_type": "stream",
          "name": "stdout",
          "text": [
            "10\n"
          ]
        }
      ]
    }
  ]
}