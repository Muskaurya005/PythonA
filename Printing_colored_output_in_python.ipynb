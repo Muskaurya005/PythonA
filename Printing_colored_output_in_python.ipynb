{
  "nbformat": 4,
  "nbformat_minor": 0,
  "metadata": {
    "colab": {
      "provenance": [],
      "authorship_tag": "ABX9TyNUK1pznw2tS8P0mKKwZy1H",
      "include_colab_link": true
    },
    "kernelspec": {
      "name": "python3",
      "display_name": "Python 3"
    },
    "language_info": {
      "name": "python"
    }
  },
  "cells": [
    {
      "cell_type": "markdown",
      "metadata": {
        "id": "view-in-github",
        "colab_type": "text"
      },
      "source": [
        "<a href=\"https://colab.research.google.com/github/Muskaurya005/Python_Assignments/blob/main/Printing_colored_output_in_python.ipynb\" target=\"_parent\"><img src=\"https://colab.research.google.com/assets/colab-badge.svg\" alt=\"Open In Colab\"/></a>"
      ]
    },
    {
      "cell_type": "code",
      "execution_count": null,
      "metadata": {
        "colab": {
          "base_uri": "https://localhost:8080/"
        },
        "id": "hz7R84wtO5FZ",
        "outputId": "2b8d02df-1fb4-463a-baab-f5a4949889b8"
      },
      "outputs": [
        {
          "output_type": "stream",
          "name": "stdout",
          "text": [
            "Collecting colorama\n",
            "  Downloading colorama-0.4.6-py2.py3-none-any.whl.metadata (17 kB)\n",
            "Downloading colorama-0.4.6-py2.py3-none-any.whl (25 kB)\n",
            "Installing collected packages: colorama\n",
            "Successfully installed colorama-0.4.6\n"
          ]
        }
      ],
      "source": [
        "!pip install colorama"
      ]
    },
    {
      "cell_type": "code",
      "source": [
        "from colorama import Fore\n",
        "print(Fore.RED + \"hello world\")\n",
        "print(Fore.BLUE + \"hello world\")\n",
        "print(Fore.GREEN + \"hello world\")\n",
        "print(Fore.YELLOW + \"CLCODING.COM\")\n",
        "print(Fore.CYAN + \"THANK YOU\")"
      ],
      "metadata": {
        "colab": {
          "base_uri": "https://localhost:8080/"
        },
        "id": "8-Rc-iCCPIIK",
        "outputId": "e7fee470-1f54-4a45-b281-9b666c2913bf"
      },
      "execution_count": null,
      "outputs": [
        {
          "output_type": "stream",
          "name": "stdout",
          "text": [
            "\u001b[31mhello world\n",
            "\u001b[34mhello world\n",
            "\u001b[32mhello world\n",
            "\u001b[33mCLCODING.COM\n",
            "\u001b[36mTHANK YOU\n"
          ]
        }
      ]
    }
  ]
}