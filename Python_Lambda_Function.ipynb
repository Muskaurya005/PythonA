{
  "nbformat": 4,
  "nbformat_minor": 0,
  "metadata": {
    "colab": {
      "provenance": [],
      "authorship_tag": "ABX9TyMDZuN6eXOUCrj4WV+xDQ5L",
      "include_colab_link": true
    },
    "kernelspec": {
      "name": "python3",
      "display_name": "Python 3"
    },
    "language_info": {
      "name": "python"
    }
  },
  "cells": [
    {
      "cell_type": "markdown",
      "metadata": {
        "id": "view-in-github",
        "colab_type": "text"
      },
      "source": [
        "<a href=\"https://colab.research.google.com/github/Muskaurya005/Python_Assignments/blob/main/Python_Lambda_Function.ipynb\" target=\"_parent\"><img src=\"https://colab.research.google.com/assets/colab-badge.svg\" alt=\"Open In Colab\"/></a>"
      ]
    },
    {
      "cell_type": "code",
      "execution_count": null,
      "metadata": {
        "colab": {
          "base_uri": "https://localhost:8080/"
        },
        "id": "jJ3SfwBggoMD",
        "outputId": "f08503a3-3694-4d0d-ad2d-e08faf3926eb"
      },
      "outputs": [
        {
          "output_type": "stream",
          "name": "stdout",
          "text": [
            "49\n"
          ]
        }
      ],
      "source": [
        "square=lambda x: x** 2;\n",
        "result =square(7);\n",
        "print(result);"
      ]
    },
    {
      "cell_type": "code",
      "source": [
        " add=lambda x,y: x+y;\n",
        "result=add (3,7);\n",
        " print(result);"
      ],
      "metadata": {
        "id": "pt_1EqNUhcuY",
        "colab": {
          "base_uri": "https://localhost:8080/"
        },
        "outputId": "77367017-faae-424b-96fb-28602dab3e55"
      },
      "execution_count": null,
      "outputs": [
        {
          "output_type": "stream",
          "name": "stdout",
          "text": [
            "10\n"
          ]
        }
      ]
    },
    {
      "cell_type": "code",
      "source": [
        "my_list=[1, 2, 3, 4, 5];\n",
        "result=list(map(lambda x: x** 2, my_list));\n",
        "print(result)"
      ],
      "metadata": {
        "colab": {
          "base_uri": "https://localhost:8080/"
        },
        "id": "Y-8DhNenh73f",
        "outputId": "3f82fb56-25c9-4533-daea-49089a7539e2"
      },
      "execution_count": null,
      "outputs": [
        {
          "output_type": "stream",
          "name": "stdout",
          "text": [
            "[1, 4, 9, 16, 25]\n"
          ]
        }
      ]
    },
    {
      "cell_type": "code",
      "source": [
        "my_list=[1, 2, 3, 4, 5, 6, 7, 8, 9, 10];\n",
        "result=list(filter (lambda x:x % 2==0, my_list));\n",
        "print(result);"
      ],
      "metadata": {
        "colab": {
          "base_uri": "https://localhost:8080/"
        },
        "id": "KCCDovYVivdf",
        "outputId": "9688277a-6e2e-4669-80d9-9c907933ae28"
      },
      "execution_count": null,
      "outputs": [
        {
          "output_type": "stream",
          "name": "stdout",
          "text": [
            "[2, 4, 6, 8, 10]\n"
          ]
        }
      ]
    },
    {
      "cell_type": "code",
      "source": [
        "from functools import reduce;\n",
        "my_list=[1, 2, 3, 4, 5];\n",
        "result=reduce(lambda x,y: x* y, my_list);\n",
        "print(result);"
      ],
      "metadata": {
        "colab": {
          "base_uri": "https://localhost:8080/"
        },
        "id": "K4beEjpDjOkZ",
        "outputId": "14285590-9999-4167-b363-85a88dbc4ae5"
      },
      "execution_count": null,
      "outputs": [
        {
          "output_type": "stream",
          "name": "stdout",
          "text": [
            "120\n"
          ]
        }
      ]
    }
  ]
}