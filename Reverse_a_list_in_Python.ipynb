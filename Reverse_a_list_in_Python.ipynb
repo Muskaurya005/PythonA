{
  "nbformat": 4,
  "nbformat_minor": 0,
  "metadata": {
    "colab": {
      "provenance": [],
      "authorship_tag": "ABX9TyMc2HkHJ+HNRWgkswz/reUk",
      "include_colab_link": true
    },
    "kernelspec": {
      "name": "python3",
      "display_name": "Python 3"
    },
    "language_info": {
      "name": "python"
    }
  },
  "cells": [
    {
      "cell_type": "markdown",
      "metadata": {
        "id": "view-in-github",
        "colab_type": "text"
      },
      "source": [
        "<a href=\"https://colab.research.google.com/github/Muskaurya005/Python_Assignments/blob/main/Reverse_a_list_in_Python.ipynb\" target=\"_parent\"><img src=\"https://colab.research.google.com/assets/colab-badge.svg\" alt=\"Open In Colab\"/></a>"
      ]
    },
    {
      "cell_type": "code",
      "execution_count": null,
      "metadata": {
        "colab": {
          "base_uri": "https://localhost:8080/"
        },
        "id": "ygs2_H4QlAVM",
        "outputId": "238cd2d6-0c23-444b-bb43-df784df1e92d"
      },
      "outputs": [
        {
          "output_type": "stream",
          "name": "stdout",
          "text": [
            "[5, 4, 3, 2, 1]\n"
          ]
        }
      ],
      "source": [
        "my_list=[1, 2, 3, 4, 5];\n",
        "my_list.reverse();\n",
        "print(my_list);"
      ]
    },
    {
      "cell_type": "code",
      "source": [
        "#2 Using the slicing\n",
        "\n",
        "my_list=[1, 2, 3, 4, 5];\n",
        "reversed_list=my_list[::-1];\n",
        "print(reversed_list) ;"
      ],
      "metadata": {
        "colab": {
          "base_uri": "https://localhost:8080/"
        },
        "id": "joEbala5lTCu",
        "outputId": "e7df43b9-a2cd-4fd7-8555-a33d2d4e331f"
      },
      "execution_count": null,
      "outputs": [
        {
          "output_type": "stream",
          "name": "stdout",
          "text": [
            "[5, 4, 3, 2, 1]\n"
          ]
        }
      ]
    },
    {
      "cell_type": "code",
      "source": [
        "#3 Using the reversed function\n",
        "\n",
        "my_list=[1, 2, 3, 4, 5];\n",
        "reversed_list= list(reversed(my_list));\n",
        "print(reversed_list);"
      ],
      "metadata": {
        "colab": {
          "base_uri": "https://localhost:8080/"
        },
        "id": "RFrxO0-_mWLS",
        "outputId": "1b2ca513-6fa6-47c3-c906-fb3e3270cb2f"
      },
      "execution_count": null,
      "outputs": [
        {
          "output_type": "stream",
          "name": "stdout",
          "text": [
            "[5, 4, 3, 2, 1]\n"
          ]
        }
      ]
    },
    {
      "cell_type": "code",
      "source": [
        "#4 Using a loop\n",
        "my_l=[1, 2, 3, 4, 5];\n",
        "r_list=[];\n",
        "for i in my_l:\n",
        "    r_list.insert(0,i);\n",
        "print(r_list);"
      ],
      "metadata": {
        "colab": {
          "base_uri": "https://localhost:8080/"
        },
        "id": "dRag1Fq9m0T7",
        "outputId": "ff00a107-40a9-4487-f489-4d8d39f8dae0"
      },
      "execution_count": null,
      "outputs": [
        {
          "output_type": "stream",
          "name": "stdout",
          "text": [
            "[5, 4, 3, 2, 1]\n"
          ]
        }
      ]
    },
    {
      "cell_type": "code",
      "source": [
        "#5 Using append method\n",
        "\n",
        "\n",
        "for i in range(len(my_list) -1,-1,-1):\n",
        "    reversed_list.append(my_list[i])"
      ],
      "metadata": {
        "id": "v-wFVjdynfDN"
      },
      "execution_count": null,
      "outputs": []
    }
  ]
}