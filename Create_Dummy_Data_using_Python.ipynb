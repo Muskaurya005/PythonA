{
  "nbformat": 4,
  "nbformat_minor": 0,
  "metadata": {
    "colab": {
      "provenance": [],
      "authorship_tag": "ABX9TyNuzwzwWDJHQ734Bs3vm1Rq",
      "include_colab_link": true
    },
    "kernelspec": {
      "name": "python3",
      "display_name": "Python 3"
    },
    "language_info": {
      "name": "python"
    }
  },
  "cells": [
    {
      "cell_type": "markdown",
      "metadata": {
        "id": "view-in-github",
        "colab_type": "text"
      },
      "source": [
        "<a href=\"https://colab.research.google.com/github/Muskaurya005/Python_Assignments/blob/main/Create_Dummy_Data_using_Python.ipynb\" target=\"_parent\"><img src=\"https://colab.research.google.com/assets/colab-badge.svg\" alt=\"Open In Colab\"/></a>"
      ]
    },
    {
      "cell_type": "code",
      "execution_count": null,
      "metadata": {
        "colab": {
          "base_uri": "https://localhost:8080/"
        },
        "id": "9jQOCol0QQwG",
        "outputId": "06c9a31a-c4e1-48f8-a3dd-2e0752d7b947"
      },
      "outputs": [
        {
          "output_type": "stream",
          "name": "stdout",
          "text": [
            "Collecting faker\n",
            "  Downloading Faker-26.0.0-py3-none-any.whl.metadata (15 kB)\n",
            "Requirement already satisfied: python-dateutil>=2.4 in /usr/local/lib/python3.10/dist-packages (from faker) (2.8.2)\n",
            "Requirement already satisfied: six>=1.5 in /usr/local/lib/python3.10/dist-packages (from python-dateutil>=2.4->faker) (1.16.0)\n",
            "Downloading Faker-26.0.0-py3-none-any.whl (1.8 MB)\n",
            "\u001b[2K   \u001b[90m━━━━━━━━━━━━━━━━━━━━━━━━━━━━━━━━━━━━━━━━\u001b[0m \u001b[32m1.8/1.8 MB\u001b[0m \u001b[31m16.0 MB/s\u001b[0m eta \u001b[36m0:00:00\u001b[0m\n",
            "\u001b[?25hInstalling collected packages: faker\n",
            "Successfully installed faker-26.0.0\n"
          ]
        }
      ],
      "source": [
        "!pip install faker"
      ]
    },
    {
      "cell_type": "code",
      "source": [
        "from faker import Faker\n",
        "fake=Faker()\n",
        "print(fake.name())\n",
        "print(fake.address())\n",
        "print(fake.text())\n",
        "print(fake.email())\n",
        "print(fake.country())\n",
        "print(fake.latitude(), fake.longitude())\n",
        "print(fake.url())"
      ],
      "metadata": {
        "colab": {
          "base_uri": "https://localhost:8080/"
        },
        "id": "lsaZPSyqQnvm",
        "outputId": "90245593-8f27-48b8-b2fa-d1ec843d077b"
      },
      "execution_count": null,
      "outputs": [
        {
          "output_type": "stream",
          "name": "stdout",
          "text": [
            "Dr. Molly Burke\n",
            "68795 Kimberly Lane Apt. 089\n",
            "Lake Ryanmouth, UT 52251\n",
            "She drop middle least my speech. Stuff for difference stock need.\n",
            "Service much Mrs development support chance production. Later real continue us everybody member. Similar allow report another.\n",
            "jboyd@example.net\n",
            "Guadeloupe\n",
            "-74.275909 -6.643763\n",
            "http://www.riley.com/\n"
          ]
        }
      ]
    }
  ]
}